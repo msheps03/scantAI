{
 "cells": [
  {
   "attachments": {},
   "cell_type": "markdown",
   "metadata": {},
   "source": [
    "# \"Presentation\" of Results from tick CNNs\n",
    "\n",
    "Date: 3/17/23"
   ]
  },
  {
   "attachments": {},
   "cell_type": "markdown",
   "metadata": {},
   "source": [
    "### Imports"
   ]
  },
  {
   "cell_type": "code",
   "execution_count": 3,
   "metadata": {},
   "outputs": [],
   "source": [
    "### Imports\n",
    "\n",
    "from classes_2 import *\n",
    "\n",
    "import matplotlib.pyplot as plt\n",
    "import numpy as np\n",
    "import os\n",
    "import tensorflow as tf\n",
    "from tensorflow import keras\n",
    "\n",
    "from tensorflow.keras.applications.resnet50 import preprocess_input, decode_predictions\n",
    "from tensorflow.keras.preprocessing import image\n",
    "import pandas as pd\n",
    "\n",
    "from mpl_toolkits.mplot3d import Axes3D\n",
    "from matplotlib import colors\n",
    "from skimage.color import rgb2gray, rgb2hsv, hsv2rgb\n",
    "from skimage.io import imread, imshow\n",
    "from sklearn.cluster import KMeans\n"
   ]
  },
  {
   "attachments": {},
   "cell_type": "markdown",
   "metadata": {},
   "source": [
    "### Helper Functions\n",
    "- Load Model\n",
    "- Make Prediction"
   ]
  },
  {
   "cell_type": "code",
   "execution_count": null,
   "metadata": {},
   "outputs": [],
   "source": [
    "def load_model(path):\n",
    "    model = keras.models.load_model(path)\n",
    "    return model\n",
    "\n",
    "def make_prediction(img_path, classes, passed_model = None):\n",
    "    if type(model) == str: \n",
    "        # path\n",
    "        model = load_model(passed_model)\n",
    "    \n",
    "    elif type(model) == None:\n",
    "        return \n",
    "        # probably should return something for error checking\n",
    "    else:\n",
    "        model = passed_model \n",
    "\n",
    "    img = image.load_img(img_path, target_size=(160, 160)) # make a parameter?\n",
    "\n",
    "    img_array = image.img_to_array(img)\n",
    "    img_batch = np.expand_dims(img_array, axis = 0)\n",
    "    img_preprocessed = preprocess_input(img_batch)\n",
    "\n",
    "    predictions = np.argmax(model.predict(img_preprocessed), axis=-1)\n",
    "\n",
    "\n",
    "    return classes[predictions]\n",
    "    "
   ]
  },
  {
   "attachments": {},
   "cell_type": "markdown",
   "metadata": {},
   "source": [
    "### Data Augmentation Functions\n",
    "- Generate rotations about the center of image, 9 outputs range(0,360,45)\n",
    "- Image segmentation and background merger (take segmented image and stack on center of background)\n",
    "- Consider scaling the images, may make them less effective"
   ]
  },
  {
   "cell_type": "code",
   "execution_count": 4,
   "metadata": {},
   "outputs": [],
   "source": [
    "def rotations(pathFrom, pathTo, rotationRate):\n",
    "    img = image.load_img(pathFrom, target_size=(160, 160))\n",
    "    tempImg = img\n",
    "    for i in range(0,360,rotationRate):\n",
    "        img.rotate(i)\n",
    "        img.save(pathTo+'__'+str(rotationRate))\n",
    "        img = tempImg # could remove this by keeping the last image and then rotating an extra rotation rate\n",
    "    \n",
    "    return\n",
    "\n",
    "#https://stackoverflow.com/questions/24844231/replacing-a-segmented-part-of-an-image-with-its-unsegmented-part\n",
    "def segmentImage(img):\n",
    "    mask = KMeans(n_clusters=2).fit(img)\n",
    "    # Get rid of quantization artifacts\n",
    "    mask[mask < 128] = 0\n",
    "    mask[mask > 128] = 1\n",
    "\n",
    "    # Create output image\n",
    "    outputImg = img * (mask == 0)\n",
    "    outputImg[mask == 1] = 255\n",
    "\n",
    "\n",
    "    return outputImg\n",
    "\n",
    "\n",
    "def merge_background(pathFromFore, pathFromBack, pathTo):\n",
    "    img_fore = image.load_img(pathFromFore, target_size=(160,160))\n",
    "    \n",
    "    segmented_fore = segmentImage(img_fore)\n",
    "    for i in range(len(pathFromBack)):\n",
    "        img_back = image.load_img(pathFromBack, target_size=(160,160))\n",
    "        img_back.paste(segmented_fore, (80,80), mask = img_fore)\n",
    "        img_back.save(pathTo+'__'+str(pathFromBack[i]))\n",
    "\n",
    "    return\n",
    "\n",
    "\n",
    "def scaling():\n",
    "    \n",
    "    return"
   ]
  },
  {
   "attachments": {},
   "cell_type": "markdown",
   "metadata": {},
   "source": [
    "### Photographs sourced from INaturalist"
   ]
  },
  {
   "cell_type": "code",
   "execution_count": 5,
   "metadata": {},
   "outputs": [
    {
     "ename": "TypeError",
     "evalue": "MobileNetV2.__init__() got an unexpected keyword argument 'dataset'",
     "output_type": "error",
     "traceback": [
      "\u001b[1;31m---------------------------------------------------------------------------\u001b[0m",
      "\u001b[1;31mTypeError\u001b[0m                                 Traceback (most recent call last)",
      "\u001b[1;32mc:\\Users\\ShepDaddy\\Documents\\GitHub\\scantAI\\collation.ipynb Cell 9\u001b[0m in \u001b[0;36m1\n\u001b[1;32m----> <a href='vscode-notebook-cell:/c%3A/Users/ShepDaddy/Documents/GitHub/scantAI/collation.ipynb#X20sZmlsZQ%3D%3D?line=0'>1</a>\u001b[0m myClass \u001b[39m=\u001b[39m MobileNetV2(dataset \u001b[39m=\u001b[39;49m \u001b[39m'\u001b[39;49m\u001b[39m./new_dataset\u001b[39;49m\u001b[39m'\u001b[39;49m, classNames \u001b[39m=\u001b[39;49m [\u001b[39m\"\u001b[39;49m\u001b[39mDermacentor variabilis\u001b[39;49m\u001b[39m\"\u001b[39;49m, \u001b[39m\"\u001b[39;49m\u001b[39mIxodes scapularis\u001b[39;49m\u001b[39m\"\u001b[39;49m ,\u001b[39m\"\u001b[39;49m\u001b[39mAmbloyomma americanum\u001b[39;49m\u001b[39m\"\u001b[39;49m])\n\u001b[0;32m      <a href='vscode-notebook-cell:/c%3A/Users/ShepDaddy/Documents/GitHub/scantAI/collation.ipynb#X20sZmlsZQ%3D%3D?line=3'>4</a>\u001b[0m myClass\u001b[39m.\u001b[39mshow_train()\n\u001b[0;32m      <a href='vscode-notebook-cell:/c%3A/Users/ShepDaddy/Documents/GitHub/scantAI/collation.ipynb#X20sZmlsZQ%3D%3D?line=4'>5</a>\u001b[0m \u001b[39m# visualization will fail with current code, intending to set up as \u001b[39;00m\n",
      "\u001b[1;31mTypeError\u001b[0m: MobileNetV2.__init__() got an unexpected keyword argument 'dataset'"
     ]
    }
   ],
   "source": [
    "myClass = MobileNetV2(dataset = './new_dataset', classNames = [\"Dermacentor variabilis\", \"Ixodes scapularis\" ,\"Ambloyomma americanum\"])\n",
    "\n",
    " \n",
    "myClass.show_train()\n",
    "# visualization will fail with current code, intending to set up as \n",
    "myClass.get_batches()\n",
    "\n",
    "myClass.augment()\n",
    "\n",
    "myClass.pre_process()\n",
    "\n",
    "myClass.accuracy_and_loss()\n",
    "\n",
    "myClass.fine_tuning()\n",
    "\n",
    "myClass.fine_accuracy_and_loss()\n",
    "\n",
    "myClass.show_predictions()\n",
    "\n",
    "myClass.save_model('./models/naturalistMulti')\n"
   ]
  },
  {
   "attachments": {},
   "cell_type": "markdown",
   "metadata": {},
   "source": [
    "### Lab based images"
   ]
  },
  {
   "cell_type": "code",
   "execution_count": null,
   "metadata": {},
   "outputs": [],
   "source": [
    "myClass = MobileNetV2(dataset = './new_dataset', classNames = [\"Dermacentor variabilis\", \"Ixodes scapularis\" ,\"Ambloyomma americanum\"])\n",
    "\n",
    " \n",
    "myClass.show_train()\n",
    "# visualization will fail with current code, intending to set up as \n",
    "myClass.get_batches()\n",
    "\n",
    "myClass.augment()\n",
    "\n",
    "myClass.pre_process()\n",
    "\n",
    "myClass.accuracy_and_loss()\n",
    "\n",
    "myClass.fine_tuning()\n",
    "\n",
    "myClass.fine_accuracy_and_loss()\n",
    "\n",
    "myClass.show_predictions()\n",
    "\n",
    "myClass.save_model('./models/lab')"
   ]
  },
  {
   "attachments": {},
   "cell_type": "markdown",
   "metadata": {},
   "source": [
    "### Augemented Lab based images"
   ]
  },
  {
   "cell_type": "code",
   "execution_count": null,
   "metadata": {},
   "outputs": [],
   "source": [
    "myClass = MobileNetV2(dataset = './new_dataset', classNames = [\"Dermacentor variabilis\", \"Ixodes scapularis\" ,\"Ambloyomma americanum\"])\n",
    "\n",
    " \n",
    "myClass.show_train()\n",
    "# visualization will fail with current code, intending to set up as \n",
    "myClass.get_batches()\n",
    "\n",
    "myClass.augment()\n",
    "\n",
    "myClass.pre_process()\n",
    "\n",
    "myClass.accuracy_and_loss()\n",
    "\n",
    "myClass.fine_tuning()\n",
    "\n",
    "myClass.fine_accuracy_and_loss()\n",
    "\n",
    "myClass.show_predictions()\n",
    "\n",
    "myClass.save_model('./models/augmentedLab')"
   ]
  },
  {
   "attachments": {},
   "cell_type": "markdown",
   "metadata": {},
   "source": [
    "### 2D background blender renders"
   ]
  },
  {
   "cell_type": "code",
   "execution_count": null,
   "metadata": {},
   "outputs": [],
   "source": [
    "myClass = MobileNetV2(dataset = './new_dataset', classNames = [\"Dermacentor variabilis\", \"Ixodes scapularis\" ,\"Ambloyomma americanum\"])\n",
    "\n",
    " \n",
    "myClass.show_train()\n",
    "# visualization will fail with current code, intending to set up as \n",
    "myClass.get_batches()\n",
    "\n",
    "myClass.augment()\n",
    "\n",
    "myClass.pre_process()\n",
    "\n",
    "myClass.accuracy_and_loss()\n",
    "\n",
    "myClass.fine_tuning()\n",
    "\n",
    "myClass.fine_accuracy_and_loss()\n",
    "\n",
    "myClass.show_predictions()\n",
    "\n",
    "myClass.save_model('./models/2dbackBlender')"
   ]
  },
  {
   "attachments": {},
   "cell_type": "markdown",
   "metadata": {},
   "source": [
    "### 3D background blender renders"
   ]
  },
  {
   "cell_type": "code",
   "execution_count": null,
   "metadata": {},
   "outputs": [],
   "source": [
    "myClass = MobileNetV2(dataset = './new_dataset', classNames = [\"Dermacentor variabilis\", \"Ixodes scapularis\" ,\"Ambloyomma americanum\"])\n",
    "\n",
    " \n",
    "myClass.show_train()\n",
    "# visualization will fail with current code, intending to set up as \n",
    "myClass.get_batches()\n",
    "\n",
    "myClass.augment()\n",
    "\n",
    "myClass.pre_process()\n",
    "\n",
    "myClass.accuracy_and_loss()\n",
    "\n",
    "myClass.fine_tuning()\n",
    "\n",
    "myClass.fine_accuracy_and_loss()\n",
    "\n",
    "myClass.show_predictions()\n",
    "\n",
    "myClass.save_model('./models/3dbackBlender')"
   ]
  }
 ],
 "metadata": {
  "kernelspec": {
   "display_name": "ECE371H",
   "language": "python",
   "name": "python3"
  },
  "language_info": {
   "codemirror_mode": {
    "name": "ipython",
    "version": 3
   },
   "file_extension": ".py",
   "mimetype": "text/x-python",
   "name": "python",
   "nbconvert_exporter": "python",
   "pygments_lexer": "ipython3",
   "version": "3.10.6"
  },
  "orig_nbformat": 4
 },
 "nbformat": 4,
 "nbformat_minor": 2
}
