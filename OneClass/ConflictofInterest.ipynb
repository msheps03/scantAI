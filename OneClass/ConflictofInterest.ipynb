{
 "cells": [
  {
   "attachments": {},
   "cell_type": "markdown",
   "metadata": {},
   "source": [
    "Train CNN on 'ImageNet' -> Remove classification layer -> make predictions on training set with CNN -> Output of this prediction is the extracted feature.\n",
    "\n",
    "Extracted Features + Labels -> Train Gaussian Mixture Model (GMM) -> Predict on Test set of 'ImageNet' images "
   ]
  },
  {
   "attachments": {},
   "cell_type": "markdown",
   "metadata": {},
   "source": [
    "Classes:\n",
    ">69: Trilobite <br>\n",
    ">70: Daddy Longleg <br>\n",
    ">71: Scorpion <br>\n",
    ">72: Black & Gold Spider <br>\n",
    ">73: Barn Spider <br>\n",
    ">74: Garden Spider <br>\n",
    ">75: Black Widow <br>\n",
    ">76: Tarantula <br>\n",
    ">77: Wolf Spider <br>\n",
    ">78: Tick <br>\n",
    ">79: Centipede <br>"
   ]
  },
  {
   "attachments": {},
   "cell_type": "markdown",
   "metadata": {},
   "source": [
    "# Full 9"
   ]
  },
  {
   "attachments": {},
   "cell_type": "markdown",
   "metadata": {},
   "source": [
    "### Imports"
   ]
  },
  {
   "cell_type": "code",
   "execution_count": 1,
   "metadata": {},
   "outputs": [],
   "source": [
    "# import libraries\n",
    "from IPython.display import Image, display\n",
    "import numpy as np\n",
    "import os\n",
    "from os.path import join\n",
    "from PIL import ImageFile\n",
    "import pandas as pd\n",
    "from matplotlib import cm\n",
    "import seaborn as sns\n",
    "from tensorflow.keras.models import Sequential\n",
    "from tensorflow.keras.layers import Dense, Flatten, GlobalAveragePooling2D\n",
    "from tensorflow.keras.applications.resnet50 import preprocess_input\n",
    "from tensorflow.keras.preprocessing.image import ImageDataGenerator\n",
    "from tensorflow.keras.applications import ResNet50\n",
    "from tensorflow.keras.preprocessing.image import load_img, img_to_array\n",
    "from sklearn.metrics import mean_squared_error, mean_absolute_error, roc_auc_score, classification_report, confusion_matrix\n",
    "import matplotlib.pyplot as plt\n",
    "from sklearn.utils import shuffle\n",
    "from sklearn.model_selection import train_test_split\n",
    "from sklearn.preprocessing import StandardScaler\n",
    "from sklearn.decomposition import PCA\n",
    "from sklearn.ensemble import IsolationForest\n",
    "from sklearn import svm\n",
    "from sklearn.mixture import GaussianMixture\n",
    "from sklearn.isotonic import IsotonicRegression\n",
    "import re\n",
    "from sklearn.svm import OneClassSVM\n",
    "from sklearn.preprocessing import MinMaxScaler\n",
    "from sklearn.manifold import TSNE\n",
    "import matplotlib.pyplot as plt\n",
    "from tensorflow.keras.optimizers import Adam, SGD\n",
    "from tensorflow.keras.models import load_model\n",
    "from tensorflow.keras import Model\n",
    "\n",
    "\n",
    "ImageFile.LOAD_TRUNCATED_IMAGES = True\n",
    "plt.style.use('fivethirtyeight')\n",
    "%matplotlib inline"
   ]
  },
  {
   "attachments": {},
   "cell_type": "markdown",
   "metadata": {},
   "source": [
    "### Read & Format Training Data"
   ]
  },
  {
   "cell_type": "code",
   "execution_count": 2,
   "metadata": {},
   "outputs": [],
   "source": [
    "def read_data(train_img_dir_n, train_img_dir_s, natural_images_path, size = 0):\n",
    "    # import car images from natural images\n",
    "    \n",
    "    train_img_paths_n = [join(train_img_dir_n,filename) for filename in os.listdir(train_img_dir_n)]\n",
    "    train_img_paths_s = [join(train_img_dir_s,filename) for filename in os.listdir(train_img_dir_s)]\n",
    "    # import car images from stanford cars\n",
    "    \n",
    "    #all_train_img_paths_s = [join(train_img_dir_s,filename) for filename in os.listdir(train_img_dir_s)]\n",
    "\n",
    "    # split cars data into train, test, and val\n",
    "    #train_img_paths, test_img_paths_car = train_test_split(train_img_paths_n, test_size=0.25, random_state=42)\n",
    "    train_img_paths, val_img_paths_car = train_test_split(train_img_paths_n, test_size=0.25, random_state=42)\n",
    "\n",
    "    test_img_paths_car, _ = train_test_split(train_img_paths_s, test_size=1, random_state=42)\n",
    "    print(len(test_img_paths_car))\n",
    "    #  import ~car images\n",
    "    \n",
    "    test_img_paths_no_car = []\n",
    "    count = 0\n",
    "    for d in [d for d in os.listdir(\"../OneClass/Other\") if d!= \"Tick\"]:\n",
    "        if count > size:\n",
    "            break\n",
    "        test_img_dir_na = natural_images_path+d\n",
    "        test_img_paths_no_car.append([join(test_img_dir_na,filename) for filename in os.listdir(test_img_dir_na)])\n",
    "        count += 1\n",
    "        \n",
    "    test_img_paths_no_car_flat = [item for sublist in test_img_paths_no_car for item in sublist]\n",
    "    test_img_paths_no_car, val_img_paths_no_car = train_test_split(test_img_paths_no_car_flat, test_size = 0.25, random_state = 42)\n",
    "\n",
    "    return test_img_paths_car, test_img_paths_no_car, val_img_paths_car, val_img_paths_no_car, train_img_paths\n",
    "\n",
    "def natural_img_dir(image_path):\n",
    "    path_regex = r\"Other\\/(\\w*)\"\n",
    "    if 'Other' in image_path:\n",
    "        return re.findall(path_regex,image_path,re.MULTILINE)[0].strip()\n",
    "    else:\n",
    "        return 'Tick'"
   ]
  },
  {
   "cell_type": "code",
   "execution_count": 3,
   "metadata": {},
   "outputs": [],
   "source": [
    "def paths(test_img_paths_car, test_img_paths_no_car):\n",
    "    # create test dataframe\n",
    "    all_test_paths = test_img_paths_car+test_img_paths_no_car\n",
    "    test_path_df = pd.DataFrame({\n",
    "        'path': all_test_paths,\n",
    "        'is_car': [1 if path in test_img_paths_car else 0 for path in all_test_paths]\n",
    "    })\n",
    "    test_path_df = shuffle(test_path_df,random_state = 0).reset_index(drop = True)\n",
    "    test_path_df['image_type'] = test_path_df['path'].apply(lambda x: natural_img_dir(x))\n",
    "    all_test_paths = test_path_df['path'].tolist()\n",
    "\n",
    "    #print('Distribution of Image Types in Test Set')\n",
    "    #print(test_path_df['image_type'].value_counts())\n",
    "    return all_test_paths, test_path_df"
   ]
  },
  {
   "cell_type": "code",
   "execution_count": 4,
   "metadata": {},
   "outputs": [],
   "source": [
    "def val_paths(val_img_paths_car, val_img_paths_no_car):\n",
    "    # create val dataframe\n",
    "    all_val_paths = val_img_paths_car+val_img_paths_no_car\n",
    "    val_path_df = pd.DataFrame({\n",
    "        'path': all_val_paths,\n",
    "        'is_car': [1 if path in val_img_paths_car else 0 for path in all_val_paths]\n",
    "    })\n",
    "    val_path_df = shuffle(val_path_df,random_state = 0).reset_index(drop = True)\n",
    "    val_path_df['image_type'] = val_path_df['path'].apply(lambda x: natural_img_dir(x))\n",
    "    all_val_paths = val_path_df['path'].tolist()\n",
    "\n",
    "    #print('Distribution of Image Types in Validation Set')\n",
    "    #print(val_path_df['image_type'].value_counts())\n",
    "    return all_val_paths, val_path_df"
   ]
  },
  {
   "attachments": {},
   "cell_type": "markdown",
   "metadata": {},
   "source": [
    "### Feature Extraction With ResNet50\n",
    "Removing the prediction layer of the pretrained Resnet50 model allows features to quickly be extracted from selected images."
   ]
  },
  {
   "cell_type": "code",
   "execution_count": 5,
   "metadata": {},
   "outputs": [],
   "source": [
    "def read_and_prep_images(img_paths, img_height, img_width):\n",
    "    imgs = [load_img(img_path, target_size=(img_height, img_width)) for img_path in img_paths]\n",
    "    img_array = np.array([img_to_array(img) for img in imgs])\n",
    "    #output = img_array\n",
    "    output = preprocess_input(img_array)\n",
    "    return(output)\n",
    "\n",
    "def path_to_set(imgSize, train_img_paths, all_test_paths, all_val_paths):\n",
    "    # prepare images for resnet50\n",
    "    image_size = imgSize\n",
    "\n",
    "    X_train = read_and_prep_images(train_img_paths, image_size, image_size)\n",
    "    X_test = read_and_prep_images(all_test_paths, image_size, image_size)\n",
    "    X_val = read_and_prep_images(all_val_paths, image_size, image_size)\n",
    "\n",
    "    return X_train, X_test, X_val"
   ]
  },
  {
   "cell_type": "code",
   "execution_count": 6,
   "metadata": {},
   "outputs": [],
   "source": [
    "def feature_extraction(X_train, X_test, X_val, image_size):\n",
    "    # get features from resnet50 \n",
    "\n",
    "    #resnet_weights_path = '../OneClass/Models/augmented_resnet50-saved-model-14-val_acc-0.28.hdf5'\n",
    "    resnet_weights_path = 'imagenet'\n",
    "    # X : images numpy array\n",
    "    resnet_model = ResNet50(input_shape=(image_size, image_size, 3), weights=resnet_weights_path, include_top=False, pooling='avg')  # Since top layer is the fc layer used for predictions\n",
    "\n",
    "\n",
    "    X_train = resnet_model.predict(X_train)\n",
    "    X_test = resnet_model.predict(X_test)\n",
    "    X_val = resnet_model.predict(X_val)\n",
    "\n",
    "    return X_train, X_test, X_val"
   ]
  },
  {
   "attachments": {},
   "cell_type": "markdown",
   "metadata": {},
   "source": [
    "### Apply PCA scaling\n",
    "Principal Component Analysis"
   ]
  },
  {
   "cell_type": "code",
   "execution_count": 7,
   "metadata": {},
   "outputs": [],
   "source": [
    "def scaling(X_train, X_test, X_val):\n",
    "\n",
    "    # Apply standard scaler to output from resnet50\n",
    "    ss = StandardScaler()\n",
    "    ss.fit(X_train)\n",
    "    X_train = ss.transform(X_train)\n",
    "    X_test = ss.transform(X_test)\n",
    "    X_val = ss.transform(X_val)\n",
    "\n",
    "    # Take PCA to reduce feature space dimensionality\n",
    "    pca = PCA(n_components=256, whiten=True)\n",
    "    pca = pca.fit(X_train)\n",
    "    print('Explained variance percentage = %0.2f' % sum(pca.explained_variance_ratio_))\n",
    "    X_train = pca.transform(X_train)\n",
    "    X_test = pca.transform(X_test)\n",
    "    X_val = pca.transform(X_val)\n",
    "\n",
    "    return X_train, X_test, X_val"
   ]
  },
  {
   "attachments": {},
   "cell_type": "markdown",
   "metadata": {},
   "source": [
    "### Gaussian Mixture Model"
   ]
  },
  {
   "cell_type": "code",
   "execution_count": 8,
   "metadata": {},
   "outputs": [],
   "source": [
    "def train_Model(val_path_df, X_train, X_test, X_val, test_path_df, all_test_paths, cov, n):\n",
    "  y_val = val_path_df['is_car'].tolist()\n",
    "\n",
    "  gmm_clf = GaussianMixture(covariance_type=cov, n_components=n, max_iter=int(1e7))  # From Article (These params should be optimized for this problem)\n",
    "  gmm_clf.fit(X_train)\n",
    "  log_probs_val = gmm_clf.score_samples(X_val)\n",
    "  isotonic_regressor = IsotonicRegression(out_of_bounds='clip')\n",
    "  isotonic_regressor.fit(log_probs_val, y_val)  # y_val is for labels 0 - not car 1 - car (validation set)\n",
    "\n",
    "  # Obtaining results on the test set\n",
    "  log_probs_test = gmm_clf.score_samples(X_test)\n",
    "  test_probabilities = isotonic_regressor.predict(log_probs_test)\n",
    "  test_predictions = [1 if prob >= 0.5 else 0 for prob in test_probabilities]\n",
    "\n",
    "  gmm_results = pd.DataFrame({\n",
    "    'path': all_test_paths,\n",
    "    'gmm_preds': test_predictions\n",
    "  })\n",
    "\n",
    "  gmm_results = gmm_results.merge(test_path_df)\n",
    "  gmm_results.head()\n",
    "\n",
    "  return gmm_clf, test_probabilities, test_predictions, gmm_results\n",
    "\n"
   ]
  },
  {
   "cell_type": "code",
   "execution_count": 9,
   "metadata": {},
   "outputs": [],
   "source": [
    "def confusion(gmm_results, test_predictions):\n",
    "    print('roc auc score: gmm_preds')\n",
    "    gmm_preds = gmm_results['gmm_preds']\n",
    "    actual = gmm_results['is_car']\n",
    "    print(roc_auc_score(actual, gmm_preds))\n",
    "    print(classification_report(actual, gmm_preds))\n",
    "    sns.heatmap(confusion_matrix(actual, gmm_preds),annot = True,fmt = '2.0f')\n",
    "    plt.show()\n",
    "    new = [(0 if i else 1) for i in test_predictions]\n",
    "\n",
    "    return gmm_preds, actual"
   ]
  },
  {
   "cell_type": "code",
   "execution_count": 10,
   "metadata": {},
   "outputs": [],
   "source": [
    "def plot_gmm(predictions, gmm_preds, actual, X_test):\n",
    "    new = [(0 if i else 1) for i in predictions]\n",
    "    for i in range(len(gmm_preds)):\n",
    "        var = gmm_preds[i] - actual[i]\n",
    "        if var == 1: # false _pos\n",
    "            new[i] = 0\n",
    "\n",
    "        elif var == 0 and gmm_preds[i] == 1: # true_pos\n",
    "            new[i] = 1\n",
    "\n",
    "\n",
    "\n",
    "        elif var == 0 and gmm_preds[i] == 0: # true_neg\n",
    "            new[i] = 2\n",
    "\n",
    "\n",
    "        elif var == -1: # false_neg\n",
    "            new[i] = 3\n",
    "        \n",
    "    plt.scatter(X_test[:, 0], X_test[:, 1], c=new, s=70, cmap='viridis', alpha=0.1);\n",
    "    \n",
    "    return"
   ]
  },
  {
   "attachments": {},
   "cell_type": "markdown",
   "metadata": {},
   "source": [
    "### Run 2D-Ticks"
   ]
  },
  {
   "cell_type": "code",
   "execution_count": 11,
   "metadata": {},
   "outputs": [
    {
     "name": "stdout",
     "output_type": "stream",
     "text": [
      "2699\n",
      "71/71 [==============================] - 25s 336ms/step\n",
      "390/390 [==============================] - 132s 337ms/step\n",
      "125/125 [==============================] - 42s 333ms/step\n",
      "Explained variance percentage = 0.94\n"
     ]
    }
   ],
   "source": [
    "train = \"../OneClass/Ticks_2D/train\" # train directory\n",
    "test = \"../OneClass/Ticks_INaturalist/train\"\n",
    "imageNet = \"../OneClass/Other/\"\n",
    "\n",
    "test_img_paths_car, test_img_paths_no_car, val_img_paths_car, val_img_paths_no_car, train_img_paths  = read_data(train, test, imageNet, 1000)\n",
    "\n",
    "all_test_paths, test_path_df = paths(test_img_paths_car, test_img_paths_no_car)\n",
    "all_val_paths, val_path_df = val_paths(val_img_paths_car, val_img_paths_no_car)\n",
    "\n",
    "X_train, X_test, X_val = path_to_set(150, train_img_paths, all_test_paths, all_val_paths)\n",
    "X_train, X_test, X_val = feature_extraction(X_train, X_test, X_val, 150)\n",
    "X_train, X_test, X_val = scaling(X_train, X_test, X_val)\n",
    "\n",
    "D2_ticks = [X_train, X_test, X_val]\n"
   ]
  },
  {
   "cell_type": "code",
   "execution_count": 45,
   "metadata": {},
   "outputs": [
    {
     "name": "stderr",
     "output_type": "stream",
     "text": [
      "c:\\Users\\ShepDaddy\\anaconda3\\envs\\ECE371H\\lib\\site-packages\\sklearn\\cluster\\_kmeans.py:1382: UserWarning: KMeans is known to have a memory leak on Windows with MKL, when there are less chunks than available threads. You can avoid it by setting the environment variable OMP_NUM_THREADS=9.\n",
      "  warnings.warn(\n",
      "c:\\Users\\ShepDaddy\\anaconda3\\envs\\ECE371H\\lib\\site-packages\\sklearn\\cluster\\_kmeans.py:1382: UserWarning: KMeans is known to have a memory leak on Windows with MKL, when there are less chunks than available threads. You can avoid it by setting the environment variable OMP_NUM_THREADS=9.\n",
      "  warnings.warn(\n"
     ]
    },
    {
     "name": "stdout",
     "output_type": "stream",
     "text": [
      "1 | 0.6457091610378013\n",
      "2 | 0.6801105442661575\n"
     ]
    },
    {
     "name": "stderr",
     "output_type": "stream",
     "text": [
      "c:\\Users\\ShepDaddy\\anaconda3\\envs\\ECE371H\\lib\\site-packages\\sklearn\\cluster\\_kmeans.py:1382: UserWarning: KMeans is known to have a memory leak on Windows with MKL, when there are less chunks than available threads. You can avoid it by setting the environment variable OMP_NUM_THREADS=9.\n",
      "  warnings.warn(\n"
     ]
    },
    {
     "name": "stdout",
     "output_type": "stream",
     "text": [
      "3 | 0.6424656235452827\n"
     ]
    },
    {
     "name": "stderr",
     "output_type": "stream",
     "text": [
      "c:\\Users\\ShepDaddy\\anaconda3\\envs\\ECE371H\\lib\\site-packages\\sklearn\\cluster\\_kmeans.py:1382: UserWarning: KMeans is known to have a memory leak on Windows with MKL, when there are less chunks than available threads. You can avoid it by setting the environment variable OMP_NUM_THREADS=9.\n",
      "  warnings.warn(\n"
     ]
    },
    {
     "name": "stdout",
     "output_type": "stream",
     "text": [
      "4 | 0.6411938704743447\n"
     ]
    },
    {
     "name": "stderr",
     "output_type": "stream",
     "text": [
      "c:\\Users\\ShepDaddy\\anaconda3\\envs\\ECE371H\\lib\\site-packages\\sklearn\\cluster\\_kmeans.py:1382: UserWarning: KMeans is known to have a memory leak on Windows with MKL, when there are less chunks than available threads. You can avoid it by setting the environment variable OMP_NUM_THREADS=9.\n",
      "  warnings.warn(\n"
     ]
    },
    {
     "name": "stdout",
     "output_type": "stream",
     "text": [
      "5 | 0.6715385185396301\n"
     ]
    },
    {
     "name": "stderr",
     "output_type": "stream",
     "text": [
      "c:\\Users\\ShepDaddy\\anaconda3\\envs\\ECE371H\\lib\\site-packages\\sklearn\\cluster\\_kmeans.py:1382: UserWarning: KMeans is known to have a memory leak on Windows with MKL, when there are less chunks than available threads. You can avoid it by setting the environment variable OMP_NUM_THREADS=9.\n",
      "  warnings.warn(\n"
     ]
    },
    {
     "name": "stdout",
     "output_type": "stream",
     "text": [
      "6 | 0.6896197452047768\n"
     ]
    },
    {
     "name": "stderr",
     "output_type": "stream",
     "text": [
      "c:\\Users\\ShepDaddy\\anaconda3\\envs\\ECE371H\\lib\\site-packages\\sklearn\\cluster\\_kmeans.py:1382: UserWarning: KMeans is known to have a memory leak on Windows with MKL, when there are less chunks than available threads. You can avoid it by setting the environment variable OMP_NUM_THREADS=9.\n",
      "  warnings.warn(\n"
     ]
    },
    {
     "name": "stdout",
     "output_type": "stream",
     "text": [
      "7 | 0.6825091534376454\n"
     ]
    },
    {
     "name": "stderr",
     "output_type": "stream",
     "text": [
      "c:\\Users\\ShepDaddy\\anaconda3\\envs\\ECE371H\\lib\\site-packages\\sklearn\\cluster\\_kmeans.py:1382: UserWarning: KMeans is known to have a memory leak on Windows with MKL, when there are less chunks than available threads. You can avoid it by setting the environment variable OMP_NUM_THREADS=9.\n",
      "  warnings.warn(\n"
     ]
    },
    {
     "name": "stdout",
     "output_type": "stream",
     "text": [
      "8 | 0.6088459733424536\n"
     ]
    },
    {
     "name": "stderr",
     "output_type": "stream",
     "text": [
      "c:\\Users\\ShepDaddy\\anaconda3\\envs\\ECE371H\\lib\\site-packages\\sklearn\\cluster\\_kmeans.py:1382: UserWarning: KMeans is known to have a memory leak on Windows with MKL, when there are less chunks than available threads. You can avoid it by setting the environment variable OMP_NUM_THREADS=9.\n",
      "  warnings.warn(\n"
     ]
    },
    {
     "name": "stdout",
     "output_type": "stream",
     "text": [
      "9 | 0.6114351944214856\n"
     ]
    },
    {
     "name": "stderr",
     "output_type": "stream",
     "text": [
      "c:\\Users\\ShepDaddy\\anaconda3\\envs\\ECE371H\\lib\\site-packages\\sklearn\\cluster\\_kmeans.py:1382: UserWarning: KMeans is known to have a memory leak on Windows with MKL, when there are less chunks than available threads. You can avoid it by setting the environment variable OMP_NUM_THREADS=9.\n",
      "  warnings.warn(\n"
     ]
    },
    {
     "name": "stdout",
     "output_type": "stream",
     "text": [
      "10 | 0.6694259412317952\n"
     ]
    },
    {
     "name": "stderr",
     "output_type": "stream",
     "text": [
      "c:\\Users\\ShepDaddy\\anaconda3\\envs\\ECE371H\\lib\\site-packages\\sklearn\\cluster\\_kmeans.py:1382: UserWarning: KMeans is known to have a memory leak on Windows with MKL, when there are less chunks than available threads. You can avoid it by setting the environment variable OMP_NUM_THREADS=9.\n",
      "  warnings.warn(\n"
     ]
    },
    {
     "name": "stdout",
     "output_type": "stream",
     "text": [
      "11 | 0.6912976506018373\n"
     ]
    },
    {
     "name": "stderr",
     "output_type": "stream",
     "text": [
      "c:\\Users\\ShepDaddy\\anaconda3\\envs\\ECE371H\\lib\\site-packages\\sklearn\\cluster\\_kmeans.py:1382: UserWarning: KMeans is known to have a memory leak on Windows with MKL, when there are less chunks than available threads. You can avoid it by setting the environment variable OMP_NUM_THREADS=9.\n",
      "  warnings.warn(\n"
     ]
    },
    {
     "name": "stdout",
     "output_type": "stream",
     "text": [
      "12 | 0.6497249123607034\n"
     ]
    },
    {
     "name": "stderr",
     "output_type": "stream",
     "text": [
      "c:\\Users\\ShepDaddy\\anaconda3\\envs\\ECE371H\\lib\\site-packages\\sklearn\\cluster\\_kmeans.py:1382: UserWarning: KMeans is known to have a memory leak on Windows with MKL, when there are less chunks than available threads. You can avoid it by setting the environment variable OMP_NUM_THREADS=9.\n",
      "  warnings.warn(\n"
     ]
    },
    {
     "name": "stdout",
     "output_type": "stream",
     "text": [
      "13 | 0.5049218418977589\n"
     ]
    },
    {
     "name": "stderr",
     "output_type": "stream",
     "text": [
      "c:\\Users\\ShepDaddy\\anaconda3\\envs\\ECE371H\\lib\\site-packages\\sklearn\\cluster\\_kmeans.py:1382: UserWarning: KMeans is known to have a memory leak on Windows with MKL, when there are less chunks than available threads. You can avoid it by setting the environment variable OMP_NUM_THREADS=9.\n",
      "  warnings.warn(\n"
     ]
    },
    {
     "name": "stdout",
     "output_type": "stream",
     "text": [
      "14 | 0.6864067033374184\n"
     ]
    },
    {
     "name": "stderr",
     "output_type": "stream",
     "text": [
      "c:\\Users\\ShepDaddy\\anaconda3\\envs\\ECE371H\\lib\\site-packages\\sklearn\\cluster\\_kmeans.py:1382: UserWarning: KMeans is known to have a memory leak on Windows with MKL, when there are less chunks than available threads. You can avoid it by setting the environment variable OMP_NUM_THREADS=9.\n",
      "  warnings.warn(\n"
     ]
    },
    {
     "name": "stdout",
     "output_type": "stream",
     "text": [
      "15 | 0.625533540437579\n"
     ]
    },
    {
     "name": "stderr",
     "output_type": "stream",
     "text": [
      "c:\\Users\\ShepDaddy\\anaconda3\\envs\\ECE371H\\lib\\site-packages\\sklearn\\cluster\\_kmeans.py:1382: UserWarning: KMeans is known to have a memory leak on Windows with MKL, when there are less chunks than available threads. You can avoid it by setting the environment variable OMP_NUM_THREADS=9.\n",
      "  warnings.warn(\n"
     ]
    },
    {
     "name": "stdout",
     "output_type": "stream",
     "text": [
      "16 | 0.5035634850514435\n"
     ]
    },
    {
     "name": "stderr",
     "output_type": "stream",
     "text": [
      "c:\\Users\\ShepDaddy\\anaconda3\\envs\\ECE371H\\lib\\site-packages\\sklearn\\cluster\\_kmeans.py:1382: UserWarning: KMeans is known to have a memory leak on Windows with MKL, when there are less chunks than available threads. You can avoid it by setting the environment variable OMP_NUM_THREADS=9.\n",
      "  warnings.warn(\n"
     ]
    },
    {
     "name": "stdout",
     "output_type": "stream",
     "text": [
      "17 | 0.6245633045477432\n"
     ]
    },
    {
     "name": "stderr",
     "output_type": "stream",
     "text": [
      "c:\\Users\\ShepDaddy\\anaconda3\\envs\\ECE371H\\lib\\site-packages\\sklearn\\cluster\\_kmeans.py:1382: UserWarning: KMeans is known to have a memory leak on Windows with MKL, when there are less chunks than available threads. You can avoid it by setting the environment variable OMP_NUM_THREADS=9.\n",
      "  warnings.warn(\n"
     ]
    },
    {
     "name": "stdout",
     "output_type": "stream",
     "text": [
      "18 | 0.506711564587074\n"
     ]
    },
    {
     "name": "stderr",
     "output_type": "stream",
     "text": [
      "c:\\Users\\ShepDaddy\\anaconda3\\envs\\ECE371H\\lib\\site-packages\\sklearn\\cluster\\_kmeans.py:1382: UserWarning: KMeans is known to have a memory leak on Windows with MKL, when there are less chunks than available threads. You can avoid it by setting the environment variable OMP_NUM_THREADS=9.\n",
      "  warnings.warn(\n"
     ]
    },
    {
     "name": "stdout",
     "output_type": "stream",
     "text": [
      "19 | 0.6660512250501135\n"
     ]
    },
    {
     "name": "stderr",
     "output_type": "stream",
     "text": [
      "c:\\Users\\ShepDaddy\\anaconda3\\envs\\ECE371H\\lib\\site-packages\\sklearn\\cluster\\_kmeans.py:1382: UserWarning: KMeans is known to have a memory leak on Windows with MKL, when there are less chunks than available threads. You can avoid it by setting the environment variable OMP_NUM_THREADS=9.\n",
      "  warnings.warn(\n"
     ]
    },
    {
     "name": "stdout",
     "output_type": "stream",
     "text": [
      "20 | 0.5071814442196065\n"
     ]
    },
    {
     "name": "stderr",
     "output_type": "stream",
     "text": [
      "c:\\Users\\ShepDaddy\\anaconda3\\envs\\ECE371H\\lib\\site-packages\\sklearn\\cluster\\_kmeans.py:1382: UserWarning: KMeans is known to have a memory leak on Windows with MKL, when there are less chunks than available threads. You can avoid it by setting the environment variable OMP_NUM_THREADS=9.\n",
      "  warnings.warn(\n"
     ]
    },
    {
     "name": "stdout",
     "output_type": "stream",
     "text": [
      "21 | 0.5279304965751798\n"
     ]
    },
    {
     "name": "stderr",
     "output_type": "stream",
     "text": [
      "c:\\Users\\ShepDaddy\\anaconda3\\envs\\ECE371H\\lib\\site-packages\\sklearn\\cluster\\_kmeans.py:1382: UserWarning: KMeans is known to have a memory leak on Windows with MKL, when there are less chunks than available threads. You can avoid it by setting the environment variable OMP_NUM_THREADS=9.\n",
      "  warnings.warn(\n"
     ]
    },
    {
     "name": "stdout",
     "output_type": "stream",
     "text": [
      "22 | 0.6274689201128623\n"
     ]
    },
    {
     "name": "stderr",
     "output_type": "stream",
     "text": [
      "c:\\Users\\ShepDaddy\\anaconda3\\envs\\ECE371H\\lib\\site-packages\\sklearn\\cluster\\_kmeans.py:1382: UserWarning: KMeans is known to have a memory leak on Windows with MKL, when there are less chunks than available threads. You can avoid it by setting the environment variable OMP_NUM_THREADS=9.\n",
      "  warnings.warn(\n"
     ]
    },
    {
     "name": "stdout",
     "output_type": "stream",
     "text": [
      "23 | 0.6544634195000998\n"
     ]
    },
    {
     "name": "stderr",
     "output_type": "stream",
     "text": [
      "c:\\Users\\ShepDaddy\\anaconda3\\envs\\ECE371H\\lib\\site-packages\\sklearn\\cluster\\_kmeans.py:1382: UserWarning: KMeans is known to have a memory leak on Windows with MKL, when there are less chunks than available threads. You can avoid it by setting the environment variable OMP_NUM_THREADS=9.\n",
      "  warnings.warn(\n"
     ]
    },
    {
     "name": "stdout",
     "output_type": "stream",
     "text": [
      "24 | 0.6219862247176067\n"
     ]
    },
    {
     "name": "stderr",
     "output_type": "stream",
     "text": [
      "c:\\Users\\ShepDaddy\\anaconda3\\envs\\ECE371H\\lib\\site-packages\\sklearn\\cluster\\_kmeans.py:1382: UserWarning: KMeans is known to have a memory leak on Windows with MKL, when there are less chunks than available threads. You can avoid it by setting the environment variable OMP_NUM_THREADS=9.\n",
      "  warnings.warn(\n"
     ]
    },
    {
     "name": "stdout",
     "output_type": "stream",
     "text": [
      "25 | 0.5056429826811449\n"
     ]
    },
    {
     "name": "stderr",
     "output_type": "stream",
     "text": [
      "c:\\Users\\ShepDaddy\\anaconda3\\envs\\ECE371H\\lib\\site-packages\\sklearn\\cluster\\_kmeans.py:1382: UserWarning: KMeans is known to have a memory leak on Windows with MKL, when there are less chunks than available threads. You can avoid it by setting the environment variable OMP_NUM_THREADS=9.\n",
      "  warnings.warn(\n"
     ]
    },
    {
     "name": "stdout",
     "output_type": "stream",
     "text": [
      "26 | 0.5104885190146399\n"
     ]
    },
    {
     "name": "stderr",
     "output_type": "stream",
     "text": [
      "c:\\Users\\ShepDaddy\\anaconda3\\envs\\ECE371H\\lib\\site-packages\\sklearn\\cluster\\_kmeans.py:1382: UserWarning: KMeans is known to have a memory leak on Windows with MKL, when there are less chunks than available threads. You can avoid it by setting the environment variable OMP_NUM_THREADS=9.\n",
      "  warnings.warn(\n"
     ]
    },
    {
     "name": "stdout",
     "output_type": "stream",
     "text": [
      "27 | 0.6008382401839238\n"
     ]
    },
    {
     "name": "stderr",
     "output_type": "stream",
     "text": [
      "c:\\Users\\ShepDaddy\\anaconda3\\envs\\ECE371H\\lib\\site-packages\\sklearn\\cluster\\_kmeans.py:1382: UserWarning: KMeans is known to have a memory leak on Windows with MKL, when there are less chunks than available threads. You can avoid it by setting the environment variable OMP_NUM_THREADS=9.\n",
      "  warnings.warn(\n"
     ]
    },
    {
     "name": "stdout",
     "output_type": "stream",
     "text": [
      "28 | 0.6006503073313003\n"
     ]
    },
    {
     "name": "stderr",
     "output_type": "stream",
     "text": [
      "c:\\Users\\ShepDaddy\\anaconda3\\envs\\ECE371H\\lib\\site-packages\\sklearn\\cluster\\_kmeans.py:1382: UserWarning: KMeans is known to have a memory leak on Windows with MKL, when there are less chunks than available threads. You can avoid it by setting the environment variable OMP_NUM_THREADS=9.\n",
      "  warnings.warn(\n"
     ]
    },
    {
     "name": "stdout",
     "output_type": "stream",
     "text": [
      "29 | 0.5065974672480785\n"
     ]
    }
   ],
   "source": [
    "roc_auc = []\n",
    "for i in range(1,30):\n",
    "    gmm_clf, test_probabilities, test_predictions, gmm_results = train_Model(val_path_df, X_train, X_test, X_val, test_path_df, all_test_paths, 'full', i)\n",
    "    L = roc_auc_score(gmm_results['is_car'], gmm_results['gmm_preds'])\n",
    "    roc_auc.append(L)\n",
    "    print(i, '|', L)"
   ]
  },
  {
   "cell_type": "code",
   "execution_count": 46,
   "metadata": {},
   "outputs": [
    {
     "name": "stdout",
     "output_type": "stream",
     "text": [
      "0.6912976506018373\n"
     ]
    }
   ],
   "source": [
    "print(max(roc_auc))"
   ]
  },
  {
   "cell_type": "code",
   "execution_count": 12,
   "metadata": {},
   "outputs": [
    {
     "name": "stderr",
     "output_type": "stream",
     "text": [
      "c:\\Users\\ShepDaddy\\anaconda3\\envs\\ECE371H\\lib\\site-packages\\sklearn\\cluster\\_kmeans.py:1382: UserWarning: KMeans is known to have a memory leak on Windows with MKL, when there are less chunks than available threads. You can avoid it by setting the environment variable OMP_NUM_THREADS=9.\n",
      "  warnings.warn(\n"
     ]
    },
    {
     "name": "stdout",
     "output_type": "stream",
     "text": [
      "roc auc score: gmm_preds\n",
      "0.5586638736094091\n",
      "              precision    recall  f1-score   support\n",
      "\n",
      "           0       0.80      0.99      0.89      9750\n",
      "           1       0.85      0.12      0.22      2699\n",
      "\n",
      "    accuracy                           0.81     12449\n",
      "   macro avg       0.83      0.56      0.55     12449\n",
      "weighted avg       0.81      0.81      0.74     12449\n",
      "\n"
     ]
    },
    {
     "data": {
      "image/png": "[encoded data removed]",
      "text/plain": [
       "<Figure size 640x480 with 2 Axes>"
      ]
     },
     "metadata": {},
     "output_type": "display_data"
    },
    {
     "name": "stdout",
     "output_type": "stream",
     "text": [
      "test Mean: 0.030716060460733184\n",
      "0.0\n",
      "X Mean: 0.11503120798603632 \n",
      "X Median:  0.0 \n",
      "X Max/Min:  1.0 / 0.0\n",
      "Y Mean: 0.007375898084241547 \n",
      "Y Median:  0.0 \n",
      "Y Max/Min:  1.0 / 0.0\n"
     ]
    }
   ],
   "source": [
    "import statistics\n",
    "\n",
    "\n",
    "gmm_clf, test_probabilities, test_predictions, gmm_results = train_Model(val_path_df, X_train, X_test, X_val, test_path_df, all_test_paths, 'full', 2)\n",
    "    \n",
    "gmm_preds, actual = confusion(gmm_results, test_predictions)\n",
    "\n",
    "print('test Mean:', sum(test_probabilities)/len(test_probabilities))\n",
    "print(statistics.mode(test_probabilities))\n",
    "x=[]\n",
    "y =[]\n",
    "for i in range(len(test_probabilities)):\n",
    "    if gmm_results['is_car'][i]:\n",
    "        x.append(test_probabilities[i])\n",
    "    else:\n",
    "        y.append(test_probabilities[i])\n",
    "    #print(i, gmm_results['is_car'][i], test_probabilities[i])\n",
    "#print('\\n\\nX:\\n\\n')\n",
    "#[print(i) for i in x]\n",
    "    \n",
    "\n",
    "print('X Mean:', statistics.mean(x), '\\nX Median: ', statistics.median(x), '\\nX Max/Min: ', max(x), '/', min(x))\n",
    "print('Y Mean:', statistics.mean(y), '\\nY Median: ', statistics.median(y), '\\nY Max/Min: ', max(y), '/', min(y))"
   ]
  },
  {
   "cell_type": "code",
   "execution_count": 17,
   "metadata": {},
   "outputs": [
    {
     "name": "stderr",
     "output_type": "stream",
     "text": [
      "C:\\Users\\ShepDaddy\\AppData\\Local\\Temp\\ipykernel_16916\\3943257299.py:1: UserWarning: No data for colormapping provided via 'c'. Parameters 'cmap' will be ignored\n",
      "  plt.scatter(gmm_clf.means_[:, 0], gmm_clf.means_[:, 1],  s=70, cmap='viridis', alpha=0.1);\n"
     ]
    },
    {
     "data": {
      "image/png": "[encoded data removed]",
      "text/plain": [
       "<Figure size 640x480 with 1 Axes>"
      ]
     },
     "metadata": {},
     "output_type": "display_data"
    }
   ],
   "source": [
    "plt.scatter(gmm_clf.means_[:, 0], gmm_clf.means_[:, 1],  s=70, cmap='viridis', alpha=0.1);"
   ]
  },
  {
   "attachments": {},
   "cell_type": "markdown",
   "metadata": {},
   "source": [
    "### Run 3D Ticks"
   ]
  },
  {
   "cell_type": "code",
   "execution_count": 13,
   "metadata": {},
   "outputs": [
    {
     "name": "stdout",
     "output_type": "stream",
     "text": [
      "2699\n",
      "13/13 [==============================] - 5s 311ms/step\n",
      "390/390 [==============================] - 129s 331ms/step\n",
      "106/106 [==============================] - 36s 334ms/step\n",
      "Explained variance percentage = 0.99\n"
     ]
    }
   ],
   "source": [
    "train_img_dir_n = \"../OneClass/Ticks_3D/train\"\n",
    "train_img_dir_s = \"../OneClass/Ticks_INaturalist/train\"\n",
    "natural_images_path = \"../OneClass/Other/\"\n",
    "\n",
    "test_img_paths_car, test_img_paths_no_car, val_img_paths_car, val_img_paths_no_car, train_img_paths  = read_data(train_img_dir_n, train_img_dir_s, natural_images_path, 1000)\n",
    "\n",
    "all_test_paths, test_path_df = paths(test_img_paths_car, test_img_paths_no_car)\n",
    "all_val_paths, val_path_df = val_paths(val_img_paths_car, val_img_paths_no_car)\n",
    "\n",
    "X_train, X_test, X_val = path_to_set(150, train_img_paths, all_test_paths, all_val_paths)\n",
    "X_train, X_test, X_val = feature_extraction(X_train, X_test, X_val, 150)\n",
    "X_train, X_test, X_val = scaling(X_train, X_test, X_val)\n",
    "\n",
    "D3_tick = [X_train, X_test, X_val]"
   ]
  },
  {
   "cell_type": "code",
   "execution_count": 14,
   "metadata": {},
   "outputs": [
    {
     "name": "stderr",
     "output_type": "stream",
     "text": [
      "c:\\Users\\ShepDaddy\\anaconda3\\envs\\ECE371H\\lib\\site-packages\\sklearn\\cluster\\_kmeans.py:1382: UserWarning: KMeans is known to have a memory leak on Windows with MKL, when there are less chunks than available threads. You can avoid it by setting the environment variable OMP_NUM_THREADS=2.\n",
      "  warnings.warn(\n"
     ]
    },
    {
     "name": "stdout",
     "output_type": "stream",
     "text": [
      "roc auc score: gmm_preds\n",
      "0.5168497544199656\n",
      "              precision    recall  f1-score   support\n",
      "\n",
      "           0       0.79      1.00      0.88      9750\n",
      "           1       0.90      0.03      0.07      2699\n",
      "\n",
      "    accuracy                           0.79     12449\n",
      "   macro avg       0.84      0.52      0.47     12449\n",
      "weighted avg       0.81      0.79      0.70     12449\n",
      "\n"
     ]
    },
    {
     "data": {
      "image/png": "[encoded data removed]",
      "text/plain": [
       "<Figure size 640x480 with 2 Axes>"
      ]
     },
     "metadata": {},
     "output_type": "display_data"
    },
    {
     "name": "stdout",
     "output_type": "stream",
     "text": [
      "test Mean: 0.012289058898545374\n",
      "0.0\n",
      "X Mean: 0.04814201938868732 \n",
      "X Median:  0.0 \n",
      "X Max/Min:  1.0 / 0.0\n",
      "Y Mean: 0.0023642239895306713 \n",
      "Y Median:  0.0 \n",
      "Y Max/Min:  0.9285714285714286 / 0.0\n"
     ]
    }
   ],
   "source": [
    "import statistics\n",
    "\n",
    "\n",
    "gmm_clf, test_probabilities, test_predictions, gmm_results = train_Model(val_path_df, D3_tick[0], X_test, X_val, test_path_df, all_test_paths, 'full', 2)\n",
    "    \n",
    "gmm_preds, actual = confusion(gmm_results, test_predictions)\n",
    "\n",
    "print('test Mean:', sum(test_probabilities)/len(test_probabilities))\n",
    "print(statistics.mode(test_probabilities))\n",
    "x=[]\n",
    "y =[]\n",
    "for i in range(len(test_probabilities)):\n",
    "    if gmm_results['is_car'][i]:\n",
    "        x.append(test_probabilities[i])\n",
    "    else:\n",
    "        y.append(test_probabilities[i])\n",
    "    #print(i, gmm_results['is_car'][i], test_probabilities[i])\n",
    "#print('\\n\\nX:\\n\\n')\n",
    "#[print(i) for i in x]\n",
    "    \n",
    "\n",
    "print('X Mean:', statistics.mean(x), '\\nX Median: ', statistics.median(x), '\\nX Max/Min: ', max(x), '/', min(x))\n",
    "print('Y Mean:', statistics.mean(y), '\\nY Median: ', statistics.median(y), '\\nY Max/Min: ', max(y), '/', min(y))\n",
    " \n"
   ]
  },
  {
   "attachments": {},
   "cell_type": "markdown",
   "metadata": {},
   "source": [
    "### Run ImageNet Ticks"
   ]
  },
  {
   "cell_type": "code",
   "execution_count": 15,
   "metadata": {},
   "outputs": [
    {
     "name": "stdout",
     "output_type": "stream",
     "text": [
      "2699\n",
      "31/31 [==============================] - 11s 321ms/step\n",
      "390/390 [==============================] - 128s 328ms/step\n",
      "112/112 [==============================] - 37s 333ms/step\n",
      "Explained variance percentage = 0.85\n"
     ]
    }
   ],
   "source": [
    "train_img_dir_n = \"../OneClass/Other/Tick\"\n",
    "train_img_dir_s = \"../OneClass/Ticks_INaturalist/train\"\n",
    "natural_images_path = \"../OneClass/Other/\"\n",
    "\n",
    "test_img_paths_car, test_img_paths_no_car, val_img_paths_car, val_img_paths_no_car, train_img_paths  = read_data(train_img_dir_n, train_img_dir_s, natural_images_path, 1000)\n",
    "\n",
    "all_test_paths, test_path_df = paths(test_img_paths_car, test_img_paths_no_car)\n",
    "all_val_paths, val_path_df = val_paths(val_img_paths_car, val_img_paths_no_car)\n",
    "\n",
    "X_train, X_test, X_val = path_to_set(150, train_img_paths, all_test_paths, all_val_paths)\n",
    "X_train, X_test, X_val = feature_extraction(X_train, X_test, X_val, 150)\n",
    "X_train, X_test, X_val = scaling(X_train, X_test, X_val)\n",
    "\n",
    "Image_Tick = [X_train, X_test, X_val]"
   ]
  },
  {
   "cell_type": "code",
   "execution_count": 16,
   "metadata": {},
   "outputs": [
    {
     "name": "stderr",
     "output_type": "stream",
     "text": [
      "c:\\Users\\ShepDaddy\\anaconda3\\envs\\ECE371H\\lib\\site-packages\\sklearn\\cluster\\_kmeans.py:1382: UserWarning: KMeans is known to have a memory leak on Windows with MKL, when there are less chunks than available threads. You can avoid it by setting the environment variable OMP_NUM_THREADS=4.\n",
      "  warnings.warn(\n"
     ]
    },
    {
     "name": "stdout",
     "output_type": "stream",
     "text": [
      "roc auc score: gmm_preds\n",
      "0.5309911363182944\n",
      "              precision    recall  f1-score   support\n",
      "\n",
      "           0       0.79      0.99      0.88      9750\n",
      "           1       0.61      0.08      0.13      2699\n",
      "\n",
      "    accuracy                           0.79     12449\n",
      "   macro avg       0.70      0.53      0.51     12449\n",
      "weighted avg       0.75      0.79      0.72     12449\n",
      "\n"
     ]
    },
    {
     "data": {
      "image/png": "[encoded data removed]",
      "text/plain": [
       "<Figure size 640x480 with 2 Axes>"
      ]
     },
     "metadata": {},
     "output_type": "display_data"
    },
    {
     "name": "stdout",
     "output_type": "stream",
     "text": [
      "test Mean: 0.09385187361057112\n",
      "0.07060755336617405\n",
      "X Mean: 0.14582328273888723 \n",
      "X Median:  0.07060755336617405 \n",
      "X Max/Min:  0.8 / 0.0\n",
      "Y Mean: 0.07946512148366851 \n",
      "Y Median:  0.048507462686567165 \n",
      "Y Max/Min:  0.8 / 0.0\n"
     ]
    }
   ],
   "source": [
    "import statistics\n",
    "\n",
    "\n",
    "gmm_clf, test_probabilities, test_predictions, gmm_results = train_Model(val_path_df, X_train, X_test, X_val, test_path_df, all_test_paths, 'full', 2)\n",
    "    \n",
    "gmm_preds, actual = confusion(gmm_results, test_predictions)\n",
    "\n",
    "print('test Mean:', sum(test_probabilities)/len(test_probabilities))\n",
    "print(statistics.mode(test_probabilities))\n",
    "x=[]\n",
    "y =[]\n",
    "for i in range(len(test_probabilities)):\n",
    "    if gmm_results['is_car'][i]:\n",
    "        x.append(test_probabilities[i])\n",
    "    else:\n",
    "        y.append(test_probabilities[i])\n",
    "    #print(i, gmm_results['is_car'][i], test_probabilities[i])\n",
    "#print('\\n\\nX:\\n\\n')\n",
    "#[print(i) for i in x]\n",
    "    \n",
    "\n",
    "print('X Mean:', statistics.mean(x), '\\nX Median: ', statistics.median(x), '\\nX Max/Min: ', max(x), '/', min(x))\n",
    "print('Y Mean:', statistics.mean(y), '\\nY Median: ', statistics.median(y), '\\nY Max/Min: ', max(y), '/', min(y))\n",
    " \n"
   ]
  }
 ],
 "metadata": {
  "kernelspec": {
   "display_name": "ECE371H",
   "language": "python",
   "name": "python3"
  },
  "language_info": {
   "codemirror_mode": {
    "name": "ipython",
    "version": 3
   },
   "file_extension": ".py",
   "mimetype": "text/x-python",
   "name": "python",
   "nbconvert_exporter": "python",
   "pygments_lexer": "ipython3",
   "version": "3.10.6"
  },
  "orig_nbformat": 4
 },
 "nbformat": 4,
 "nbformat_minor": 2
}
